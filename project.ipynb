{
 "cells": [
  {
   "cell_type": "code",
   "execution_count": null,
   "metadata": {
    "pycharm": {
     "name": "#%%\n",
     "is_executing": true
    }
   },
   "outputs": [],
   "source": [
    "import pandas as pd\n",
    "from rdflib import Graph, Literal, RDF, URIRef, Namespace, BNode\n",
    "from rdflib.namespace import RDFS, XSD\n",
    "import urllib.parse"
   ]
  },
  {
   "cell_type": "markdown",
   "source": [
    "Първата стъпка бе зареждането на данните от CSV формат. За тази цел използвахме библиотеката Pandas. Макар и форматът на входните данни да е CSV, бе необходимо да се направи предварително почистване на данните. Срещнахме следните особености около файловете:\n",
    "- Разделителният символ бе ‘;’, а не стандартния ‘,’\n",
    "- Първите три реда, играещи ролята на заглавни, всъщност не носеха никаква полезна информация и трябваше да бъдат премахнати\n",
    "- Липса на адекватен заглавен ред, задаващ името на колоните.\n",
    "- Съществуването на допълнителна празна колона - причината за това бе, че всеки ред в CSV файла завършва с ‘;’. При зареждането на файла в pandas, този символ в края на реда се интерпретира като допълнителна колона\n"
   ],
   "metadata": {
    "collapsed": false,
    "pycharm": {
     "name": "#%% md\n"
    }
   }
  },
  {
   "cell_type": "code",
   "execution_count": 2,
   "outputs": [],
   "source": [
    "headers = ['Област', 'Мъже 2016', 'Жени 2016', 'Мъже 2017', 'Жени 2017', 'Мъже 2018', 'Жени 2018', 'Мъже 2019', 'Жени 2019', 'Мъже 2020', 'Жени 2020', 'Мъже 2021', 'Жени 2021']"
   ],
   "metadata": {
    "collapsed": false,
    "pycharm": {
     "name": "#%%\n"
    }
   }
  },
  {
   "cell_type": "code",
   "execution_count": 3,
   "outputs": [
    {
     "name": "stdout",
     "output_type": "stream",
     "text": [
      "(28, 13)\n"
     ]
    },
    {
     "data": {
      "text/plain": "    Област  Родени момчета 2016  Родени момичета 2016  Родени момчета 2017  \\\n0    Видин                  293                   263                  288   \n1    Враца                  761                   692                  677   \n2    Ловеч                  507                   457                  533   \n3  Монтана                  571                   535                  508   \n4   Плевен                 1111                  1071                 1089   \n\n   Родени момичета 2017  Родени момчета 2018  Родени момичета 2018  \\\n0                   284                  304                   282   \n1                   643                  701                   674   \n2                   476                  505                   523   \n3                   511                  500                   504   \n4                  1023                  957                   988   \n\n   Родени момчета 2019  Родени момичета 2019  Родени момчета 2020  \\\n0                  262                   286                  242   \n1                  669                   679                  678   \n2                  506                   463                  482   \n3                  486                   450                  459   \n4                 1009                   993                  988   \n\n   Родени момичета 2020  Родени момчета 2021  Родени момичета 2021  \n0                   231                  281                   247  \n1                   656                  633                   609  \n2                   500                  496                   469  \n3                   464                  493                   460  \n4                   935                  892                   894  ",
      "text/html": "<div>\n<style scoped>\n    .dataframe tbody tr th:only-of-type {\n        vertical-align: middle;\n    }\n\n    .dataframe tbody tr th {\n        vertical-align: top;\n    }\n\n    .dataframe thead th {\n        text-align: right;\n    }\n</style>\n<table border=\"1\" class=\"dataframe\">\n  <thead>\n    <tr style=\"text-align: right;\">\n      <th></th>\n      <th>Област</th>\n      <th>Родени момчета 2016</th>\n      <th>Родени момичета 2016</th>\n      <th>Родени момчета 2017</th>\n      <th>Родени момичета 2017</th>\n      <th>Родени момчета 2018</th>\n      <th>Родени момичета 2018</th>\n      <th>Родени момчета 2019</th>\n      <th>Родени момичета 2019</th>\n      <th>Родени момчета 2020</th>\n      <th>Родени момичета 2020</th>\n      <th>Родени момчета 2021</th>\n      <th>Родени момичета 2021</th>\n    </tr>\n  </thead>\n  <tbody>\n    <tr>\n      <th>0</th>\n      <td>Видин</td>\n      <td>293</td>\n      <td>263</td>\n      <td>288</td>\n      <td>284</td>\n      <td>304</td>\n      <td>282</td>\n      <td>262</td>\n      <td>286</td>\n      <td>242</td>\n      <td>231</td>\n      <td>281</td>\n      <td>247</td>\n    </tr>\n    <tr>\n      <th>1</th>\n      <td>Враца</td>\n      <td>761</td>\n      <td>692</td>\n      <td>677</td>\n      <td>643</td>\n      <td>701</td>\n      <td>674</td>\n      <td>669</td>\n      <td>679</td>\n      <td>678</td>\n      <td>656</td>\n      <td>633</td>\n      <td>609</td>\n    </tr>\n    <tr>\n      <th>2</th>\n      <td>Ловеч</td>\n      <td>507</td>\n      <td>457</td>\n      <td>533</td>\n      <td>476</td>\n      <td>505</td>\n      <td>523</td>\n      <td>506</td>\n      <td>463</td>\n      <td>482</td>\n      <td>500</td>\n      <td>496</td>\n      <td>469</td>\n    </tr>\n    <tr>\n      <th>3</th>\n      <td>Монтана</td>\n      <td>571</td>\n      <td>535</td>\n      <td>508</td>\n      <td>511</td>\n      <td>500</td>\n      <td>504</td>\n      <td>486</td>\n      <td>450</td>\n      <td>459</td>\n      <td>464</td>\n      <td>493</td>\n      <td>460</td>\n    </tr>\n    <tr>\n      <th>4</th>\n      <td>Плевен</td>\n      <td>1111</td>\n      <td>1071</td>\n      <td>1089</td>\n      <td>1023</td>\n      <td>957</td>\n      <td>988</td>\n      <td>1009</td>\n      <td>993</td>\n      <td>988</td>\n      <td>935</td>\n      <td>892</td>\n      <td>894</td>\n    </tr>\n  </tbody>\n</table>\n</div>"
     },
     "execution_count": 3,
     "metadata": {},
     "output_type": "execute_result"
    }
   ],
   "source": [
    "born = pd.read_csv('born.csv', sep=';', skiprows=3, header=None).drop(13, axis=1)\n",
    "born.columns = ['Област', 'Родени момчета 2016', 'Родени момичета 2016', 'Родени момчета 2017', 'Родени момичета 2017', 'Родени момчета 2018', 'Родени момичета 2018', 'Родени момчета 2019', 'Родени момичета 2019', 'Родени момчета 2020', 'Родени момичета 2020', 'Родени момчета 2021', 'Родени момичета 2021']\n",
    "print(born.shape)\n",
    "born.head()"
   ],
   "metadata": {
    "collapsed": false,
    "pycharm": {
     "name": "#%%\n"
    }
   }
  },
  {
   "cell_type": "code",
   "execution_count": 4,
   "outputs": [
    {
     "name": "stdout",
     "output_type": "stream",
     "text": [
      "(28, 13)\n"
     ]
    },
    {
     "data": {
      "text/plain": "    Област  Умрели мъже 2016  Умрели жени 2016  Умрели мъже 2017  \\\n0    Видин              1043              1038              1018   \n1    Враца              1659              1545              1704   \n2    Ловеч              1315              1195              1408   \n3  Монтана              1542              1354              1448   \n4   Плевен              2403              2221              2333   \n\n   Умрели жени 2017  Умрели мъже 2018  Умрели жени 2018  Умрели мъже 2019  \\\n0               981              1029               963               957   \n1              1655              1659              1582              1697   \n2              1291              1312              1170              1354   \n3              1364              1425              1416              1400   \n4              2293              2393              2174              2405   \n\n   Умрели жени 2019  Умрели мъже 2020  Умрели жени 2020  Умрели мъже 2021  \\\n0               965              1173              1096              1385   \n1              1483              1906              1633              2301   \n2              1228              1441              1313              1721   \n3              1399              1754              1462              1991   \n4              2219              2701              2399              3192   \n\n   Умрели жени 2021  \n0              1197  \n1              2063  \n2              1576  \n3              1824  \n4              2954  ",
      "text/html": "<div>\n<style scoped>\n    .dataframe tbody tr th:only-of-type {\n        vertical-align: middle;\n    }\n\n    .dataframe tbody tr th {\n        vertical-align: top;\n    }\n\n    .dataframe thead th {\n        text-align: right;\n    }\n</style>\n<table border=\"1\" class=\"dataframe\">\n  <thead>\n    <tr style=\"text-align: right;\">\n      <th></th>\n      <th>Област</th>\n      <th>Умрели мъже 2016</th>\n      <th>Умрели жени 2016</th>\n      <th>Умрели мъже 2017</th>\n      <th>Умрели жени 2017</th>\n      <th>Умрели мъже 2018</th>\n      <th>Умрели жени 2018</th>\n      <th>Умрели мъже 2019</th>\n      <th>Умрели жени 2019</th>\n      <th>Умрели мъже 2020</th>\n      <th>Умрели жени 2020</th>\n      <th>Умрели мъже 2021</th>\n      <th>Умрели жени 2021</th>\n    </tr>\n  </thead>\n  <tbody>\n    <tr>\n      <th>0</th>\n      <td>Видин</td>\n      <td>1043</td>\n      <td>1038</td>\n      <td>1018</td>\n      <td>981</td>\n      <td>1029</td>\n      <td>963</td>\n      <td>957</td>\n      <td>965</td>\n      <td>1173</td>\n      <td>1096</td>\n      <td>1385</td>\n      <td>1197</td>\n    </tr>\n    <tr>\n      <th>1</th>\n      <td>Враца</td>\n      <td>1659</td>\n      <td>1545</td>\n      <td>1704</td>\n      <td>1655</td>\n      <td>1659</td>\n      <td>1582</td>\n      <td>1697</td>\n      <td>1483</td>\n      <td>1906</td>\n      <td>1633</td>\n      <td>2301</td>\n      <td>2063</td>\n    </tr>\n    <tr>\n      <th>2</th>\n      <td>Ловеч</td>\n      <td>1315</td>\n      <td>1195</td>\n      <td>1408</td>\n      <td>1291</td>\n      <td>1312</td>\n      <td>1170</td>\n      <td>1354</td>\n      <td>1228</td>\n      <td>1441</td>\n      <td>1313</td>\n      <td>1721</td>\n      <td>1576</td>\n    </tr>\n    <tr>\n      <th>3</th>\n      <td>Монтана</td>\n      <td>1542</td>\n      <td>1354</td>\n      <td>1448</td>\n      <td>1364</td>\n      <td>1425</td>\n      <td>1416</td>\n      <td>1400</td>\n      <td>1399</td>\n      <td>1754</td>\n      <td>1462</td>\n      <td>1991</td>\n      <td>1824</td>\n    </tr>\n    <tr>\n      <th>4</th>\n      <td>Плевен</td>\n      <td>2403</td>\n      <td>2221</td>\n      <td>2333</td>\n      <td>2293</td>\n      <td>2393</td>\n      <td>2174</td>\n      <td>2405</td>\n      <td>2219</td>\n      <td>2701</td>\n      <td>2399</td>\n      <td>3192</td>\n      <td>2954</td>\n    </tr>\n  </tbody>\n</table>\n</div>"
     },
     "execution_count": 4,
     "metadata": {},
     "output_type": "execute_result"
    }
   ],
   "source": [
    "died = pd.read_csv('died.csv', sep=';', skiprows=3, header=None).drop(13, axis=1)\n",
    "died.columns = ['Област', 'Умрели мъже 2016', 'Умрели жени 2016', 'Умрели мъже 2017', 'Умрели жени 2017', 'Умрели мъже 2018', 'Умрели жени 2018', 'Умрели мъже 2019', 'Умрели жени 2019', 'Умрели мъже 2020', 'Умрели жени 2020', 'Умрели мъже 2021', 'Умрели жени 2021']\n",
    "print(died.shape)\n",
    "died.head()"
   ],
   "metadata": {
    "collapsed": false,
    "pycharm": {
     "name": "#%%\n"
    }
   }
  },
  {
   "cell_type": "code",
   "execution_count": 5,
   "outputs": [
    {
     "name": "stdout",
     "output_type": "stream",
     "text": [
      "(56, 8)\n"
     ]
    },
    {
     "data": {
      "text/plain": "  Област   Пол  Брой 2016  Брой 2017  Брой 2018  Брой 2019  Брой 2020  \\\n0  Видин  Мъже      43400      42411      41349      40369      39487   \n1  Видин  Жени      45467      44516      43516      42466      41725   \n2  Враца  Мъже      83036      81459      79894      78234      77196   \n3  Враца  Жени      85691      84186      82655      81236      80441   \n4  Ловеч  Мъже      63102      61906      60836      59658      59580   \n\n   Брой 2021  \n0      38216  \n1      40598  \n2      75100  \n3      78600  \n4      58181  ",
      "text/html": "<div>\n<style scoped>\n    .dataframe tbody tr th:only-of-type {\n        vertical-align: middle;\n    }\n\n    .dataframe tbody tr th {\n        vertical-align: top;\n    }\n\n    .dataframe thead th {\n        text-align: right;\n    }\n</style>\n<table border=\"1\" class=\"dataframe\">\n  <thead>\n    <tr style=\"text-align: right;\">\n      <th></th>\n      <th>Област</th>\n      <th>Пол</th>\n      <th>Брой 2016</th>\n      <th>Брой 2017</th>\n      <th>Брой 2018</th>\n      <th>Брой 2019</th>\n      <th>Брой 2020</th>\n      <th>Брой 2021</th>\n    </tr>\n  </thead>\n  <tbody>\n    <tr>\n      <th>0</th>\n      <td>Видин</td>\n      <td>Мъже</td>\n      <td>43400</td>\n      <td>42411</td>\n      <td>41349</td>\n      <td>40369</td>\n      <td>39487</td>\n      <td>38216</td>\n    </tr>\n    <tr>\n      <th>1</th>\n      <td>Видин</td>\n      <td>Жени</td>\n      <td>45467</td>\n      <td>44516</td>\n      <td>43516</td>\n      <td>42466</td>\n      <td>41725</td>\n      <td>40598</td>\n    </tr>\n    <tr>\n      <th>2</th>\n      <td>Враца</td>\n      <td>Мъже</td>\n      <td>83036</td>\n      <td>81459</td>\n      <td>79894</td>\n      <td>78234</td>\n      <td>77196</td>\n      <td>75100</td>\n    </tr>\n    <tr>\n      <th>3</th>\n      <td>Враца</td>\n      <td>Жени</td>\n      <td>85691</td>\n      <td>84186</td>\n      <td>82655</td>\n      <td>81236</td>\n      <td>80441</td>\n      <td>78600</td>\n    </tr>\n    <tr>\n      <th>4</th>\n      <td>Ловеч</td>\n      <td>Мъже</td>\n      <td>63102</td>\n      <td>61906</td>\n      <td>60836</td>\n      <td>59658</td>\n      <td>59580</td>\n      <td>58181</td>\n    </tr>\n  </tbody>\n</table>\n</div>"
     },
     "execution_count": 5,
     "metadata": {},
     "output_type": "execute_result"
    }
   ],
   "source": [
    "total = pd.read_csv('population.csv', sep=';', skiprows=3, header=None).drop(9, axis=1).drop(1, axis=1)\n",
    "total.columns = ['Област', 'Пол', 'Брой 2016', 'Брой 2017', 'Брой 2018', 'Брой 2019', 'Брой 2020', 'Брой 2021']\n",
    "print(total.shape)\n",
    "total.head()"
   ],
   "metadata": {
    "collapsed": false,
    "pycharm": {
     "name": "#%%\n"
    }
   }
  },
  {
   "cell_type": "markdown",
   "source": [
    "Втората стъпка при трансформацията на данните бе сливането на трите таблици в една. Както споменахме по-горе, целта ни беше да имаме обект от тип “cube:observation”, който съдържа информацията за родените, починалите и общото население, разделено по пол, за всяка от годините, за всяка от областите. За целта, за всеки от регионите и за всяка от годините, филтрирахме нужните ни редове, и на база на тях създадохме нова таблица.\n"
   ],
   "metadata": {
    "collapsed": false,
    "pycharm": {
     "name": "#%% md\n"
    }
   }
  },
  {
   "cell_type": "code",
   "execution_count": 6,
   "outputs": [
    {
     "name": "stderr",
     "output_type": "stream",
     "text": [
      "/tmp/ipykernel_230771/2792239671.py:20: FutureWarning: The frame.append method is deprecated and will be removed from pandas in a future version. Use pandas.concat instead.\n",
      "  combined = combined.append(row_to_add, ignore_index=True)\n",
      "/tmp/ipykernel_230771/2792239671.py:20: FutureWarning: The frame.append method is deprecated and will be removed from pandas in a future version. Use pandas.concat instead.\n",
      "  combined = combined.append(row_to_add, ignore_index=True)\n",
      "/tmp/ipykernel_230771/2792239671.py:20: FutureWarning: The frame.append method is deprecated and will be removed from pandas in a future version. Use pandas.concat instead.\n",
      "  combined = combined.append(row_to_add, ignore_index=True)\n",
      "/tmp/ipykernel_230771/2792239671.py:20: FutureWarning: The frame.append method is deprecated and will be removed from pandas in a future version. Use pandas.concat instead.\n",
      "  combined = combined.append(row_to_add, ignore_index=True)\n",
      "/tmp/ipykernel_230771/2792239671.py:20: FutureWarning: The frame.append method is deprecated and will be removed from pandas in a future version. Use pandas.concat instead.\n",
      "  combined = combined.append(row_to_add, ignore_index=True)\n",
      "/tmp/ipykernel_230771/2792239671.py:20: FutureWarning: The frame.append method is deprecated and will be removed from pandas in a future version. Use pandas.concat instead.\n",
      "  combined = combined.append(row_to_add, ignore_index=True)\n",
      "/tmp/ipykernel_230771/2792239671.py:20: FutureWarning: The frame.append method is deprecated and will be removed from pandas in a future version. Use pandas.concat instead.\n",
      "  combined = combined.append(row_to_add, ignore_index=True)\n",
      "/tmp/ipykernel_230771/2792239671.py:20: FutureWarning: The frame.append method is deprecated and will be removed from pandas in a future version. Use pandas.concat instead.\n",
      "  combined = combined.append(row_to_add, ignore_index=True)\n",
      "/tmp/ipykernel_230771/2792239671.py:20: FutureWarning: The frame.append method is deprecated and will be removed from pandas in a future version. Use pandas.concat instead.\n",
      "  combined = combined.append(row_to_add, ignore_index=True)\n",
      "/tmp/ipykernel_230771/2792239671.py:20: FutureWarning: The frame.append method is deprecated and will be removed from pandas in a future version. Use pandas.concat instead.\n",
      "  combined = combined.append(row_to_add, ignore_index=True)\n",
      "/tmp/ipykernel_230771/2792239671.py:20: FutureWarning: The frame.append method is deprecated and will be removed from pandas in a future version. Use pandas.concat instead.\n",
      "  combined = combined.append(row_to_add, ignore_index=True)\n",
      "/tmp/ipykernel_230771/2792239671.py:20: FutureWarning: The frame.append method is deprecated and will be removed from pandas in a future version. Use pandas.concat instead.\n",
      "  combined = combined.append(row_to_add, ignore_index=True)\n",
      "/tmp/ipykernel_230771/2792239671.py:20: FutureWarning: The frame.append method is deprecated and will be removed from pandas in a future version. Use pandas.concat instead.\n",
      "  combined = combined.append(row_to_add, ignore_index=True)\n",
      "/tmp/ipykernel_230771/2792239671.py:20: FutureWarning: The frame.append method is deprecated and will be removed from pandas in a future version. Use pandas.concat instead.\n",
      "  combined = combined.append(row_to_add, ignore_index=True)\n",
      "/tmp/ipykernel_230771/2792239671.py:20: FutureWarning: The frame.append method is deprecated and will be removed from pandas in a future version. Use pandas.concat instead.\n",
      "  combined = combined.append(row_to_add, ignore_index=True)\n",
      "/tmp/ipykernel_230771/2792239671.py:20: FutureWarning: The frame.append method is deprecated and will be removed from pandas in a future version. Use pandas.concat instead.\n",
      "  combined = combined.append(row_to_add, ignore_index=True)\n",
      "/tmp/ipykernel_230771/2792239671.py:20: FutureWarning: The frame.append method is deprecated and will be removed from pandas in a future version. Use pandas.concat instead.\n",
      "  combined = combined.append(row_to_add, ignore_index=True)\n",
      "/tmp/ipykernel_230771/2792239671.py:20: FutureWarning: The frame.append method is deprecated and will be removed from pandas in a future version. Use pandas.concat instead.\n",
      "  combined = combined.append(row_to_add, ignore_index=True)\n",
      "/tmp/ipykernel_230771/2792239671.py:20: FutureWarning: The frame.append method is deprecated and will be removed from pandas in a future version. Use pandas.concat instead.\n",
      "  combined = combined.append(row_to_add, ignore_index=True)\n",
      "/tmp/ipykernel_230771/2792239671.py:20: FutureWarning: The frame.append method is deprecated and will be removed from pandas in a future version. Use pandas.concat instead.\n",
      "  combined = combined.append(row_to_add, ignore_index=True)\n",
      "/tmp/ipykernel_230771/2792239671.py:20: FutureWarning: The frame.append method is deprecated and will be removed from pandas in a future version. Use pandas.concat instead.\n",
      "  combined = combined.append(row_to_add, ignore_index=True)\n",
      "/tmp/ipykernel_230771/2792239671.py:20: FutureWarning: The frame.append method is deprecated and will be removed from pandas in a future version. Use pandas.concat instead.\n",
      "  combined = combined.append(row_to_add, ignore_index=True)\n",
      "/tmp/ipykernel_230771/2792239671.py:20: FutureWarning: The frame.append method is deprecated and will be removed from pandas in a future version. Use pandas.concat instead.\n",
      "  combined = combined.append(row_to_add, ignore_index=True)\n",
      "/tmp/ipykernel_230771/2792239671.py:20: FutureWarning: The frame.append method is deprecated and will be removed from pandas in a future version. Use pandas.concat instead.\n",
      "  combined = combined.append(row_to_add, ignore_index=True)\n",
      "/tmp/ipykernel_230771/2792239671.py:20: FutureWarning: The frame.append method is deprecated and will be removed from pandas in a future version. Use pandas.concat instead.\n",
      "  combined = combined.append(row_to_add, ignore_index=True)\n",
      "/tmp/ipykernel_230771/2792239671.py:20: FutureWarning: The frame.append method is deprecated and will be removed from pandas in a future version. Use pandas.concat instead.\n",
      "  combined = combined.append(row_to_add, ignore_index=True)\n",
      "/tmp/ipykernel_230771/2792239671.py:20: FutureWarning: The frame.append method is deprecated and will be removed from pandas in a future version. Use pandas.concat instead.\n",
      "  combined = combined.append(row_to_add, ignore_index=True)\n",
      "/tmp/ipykernel_230771/2792239671.py:20: FutureWarning: The frame.append method is deprecated and will be removed from pandas in a future version. Use pandas.concat instead.\n",
      "  combined = combined.append(row_to_add, ignore_index=True)\n",
      "/tmp/ipykernel_230771/2792239671.py:20: FutureWarning: The frame.append method is deprecated and will be removed from pandas in a future version. Use pandas.concat instead.\n",
      "  combined = combined.append(row_to_add, ignore_index=True)\n",
      "/tmp/ipykernel_230771/2792239671.py:20: FutureWarning: The frame.append method is deprecated and will be removed from pandas in a future version. Use pandas.concat instead.\n",
      "  combined = combined.append(row_to_add, ignore_index=True)\n",
      "/tmp/ipykernel_230771/2792239671.py:20: FutureWarning: The frame.append method is deprecated and will be removed from pandas in a future version. Use pandas.concat instead.\n",
      "  combined = combined.append(row_to_add, ignore_index=True)\n",
      "/tmp/ipykernel_230771/2792239671.py:20: FutureWarning: The frame.append method is deprecated and will be removed from pandas in a future version. Use pandas.concat instead.\n",
      "  combined = combined.append(row_to_add, ignore_index=True)\n",
      "/tmp/ipykernel_230771/2792239671.py:20: FutureWarning: The frame.append method is deprecated and will be removed from pandas in a future version. Use pandas.concat instead.\n",
      "  combined = combined.append(row_to_add, ignore_index=True)\n",
      "/tmp/ipykernel_230771/2792239671.py:20: FutureWarning: The frame.append method is deprecated and will be removed from pandas in a future version. Use pandas.concat instead.\n",
      "  combined = combined.append(row_to_add, ignore_index=True)\n",
      "/tmp/ipykernel_230771/2792239671.py:20: FutureWarning: The frame.append method is deprecated and will be removed from pandas in a future version. Use pandas.concat instead.\n",
      "  combined = combined.append(row_to_add, ignore_index=True)\n",
      "/tmp/ipykernel_230771/2792239671.py:20: FutureWarning: The frame.append method is deprecated and will be removed from pandas in a future version. Use pandas.concat instead.\n",
      "  combined = combined.append(row_to_add, ignore_index=True)\n",
      "/tmp/ipykernel_230771/2792239671.py:20: FutureWarning: The frame.append method is deprecated and will be removed from pandas in a future version. Use pandas.concat instead.\n",
      "  combined = combined.append(row_to_add, ignore_index=True)\n",
      "/tmp/ipykernel_230771/2792239671.py:20: FutureWarning: The frame.append method is deprecated and will be removed from pandas in a future version. Use pandas.concat instead.\n",
      "  combined = combined.append(row_to_add, ignore_index=True)\n",
      "/tmp/ipykernel_230771/2792239671.py:20: FutureWarning: The frame.append method is deprecated and will be removed from pandas in a future version. Use pandas.concat instead.\n",
      "  combined = combined.append(row_to_add, ignore_index=True)\n",
      "/tmp/ipykernel_230771/2792239671.py:20: FutureWarning: The frame.append method is deprecated and will be removed from pandas in a future version. Use pandas.concat instead.\n",
      "  combined = combined.append(row_to_add, ignore_index=True)\n",
      "/tmp/ipykernel_230771/2792239671.py:20: FutureWarning: The frame.append method is deprecated and will be removed from pandas in a future version. Use pandas.concat instead.\n",
      "  combined = combined.append(row_to_add, ignore_index=True)\n",
      "/tmp/ipykernel_230771/2792239671.py:20: FutureWarning: The frame.append method is deprecated and will be removed from pandas in a future version. Use pandas.concat instead.\n",
      "  combined = combined.append(row_to_add, ignore_index=True)\n",
      "/tmp/ipykernel_230771/2792239671.py:20: FutureWarning: The frame.append method is deprecated and will be removed from pandas in a future version. Use pandas.concat instead.\n",
      "  combined = combined.append(row_to_add, ignore_index=True)\n",
      "/tmp/ipykernel_230771/2792239671.py:20: FutureWarning: The frame.append method is deprecated and will be removed from pandas in a future version. Use pandas.concat instead.\n",
      "  combined = combined.append(row_to_add, ignore_index=True)\n",
      "/tmp/ipykernel_230771/2792239671.py:20: FutureWarning: The frame.append method is deprecated and will be removed from pandas in a future version. Use pandas.concat instead.\n",
      "  combined = combined.append(row_to_add, ignore_index=True)\n",
      "/tmp/ipykernel_230771/2792239671.py:20: FutureWarning: The frame.append method is deprecated and will be removed from pandas in a future version. Use pandas.concat instead.\n",
      "  combined = combined.append(row_to_add, ignore_index=True)\n",
      "/tmp/ipykernel_230771/2792239671.py:20: FutureWarning: The frame.append method is deprecated and will be removed from pandas in a future version. Use pandas.concat instead.\n",
      "  combined = combined.append(row_to_add, ignore_index=True)\n",
      "/tmp/ipykernel_230771/2792239671.py:20: FutureWarning: The frame.append method is deprecated and will be removed from pandas in a future version. Use pandas.concat instead.\n",
      "  combined = combined.append(row_to_add, ignore_index=True)\n",
      "/tmp/ipykernel_230771/2792239671.py:20: FutureWarning: The frame.append method is deprecated and will be removed from pandas in a future version. Use pandas.concat instead.\n",
      "  combined = combined.append(row_to_add, ignore_index=True)\n",
      "/tmp/ipykernel_230771/2792239671.py:20: FutureWarning: The frame.append method is deprecated and will be removed from pandas in a future version. Use pandas.concat instead.\n",
      "  combined = combined.append(row_to_add, ignore_index=True)\n",
      "/tmp/ipykernel_230771/2792239671.py:20: FutureWarning: The frame.append method is deprecated and will be removed from pandas in a future version. Use pandas.concat instead.\n",
      "  combined = combined.append(row_to_add, ignore_index=True)\n",
      "/tmp/ipykernel_230771/2792239671.py:20: FutureWarning: The frame.append method is deprecated and will be removed from pandas in a future version. Use pandas.concat instead.\n",
      "  combined = combined.append(row_to_add, ignore_index=True)\n",
      "/tmp/ipykernel_230771/2792239671.py:20: FutureWarning: The frame.append method is deprecated and will be removed from pandas in a future version. Use pandas.concat instead.\n",
      "  combined = combined.append(row_to_add, ignore_index=True)\n",
      "/tmp/ipykernel_230771/2792239671.py:20: FutureWarning: The frame.append method is deprecated and will be removed from pandas in a future version. Use pandas.concat instead.\n",
      "  combined = combined.append(row_to_add, ignore_index=True)\n",
      "/tmp/ipykernel_230771/2792239671.py:20: FutureWarning: The frame.append method is deprecated and will be removed from pandas in a future version. Use pandas.concat instead.\n",
      "  combined = combined.append(row_to_add, ignore_index=True)\n",
      "/tmp/ipykernel_230771/2792239671.py:20: FutureWarning: The frame.append method is deprecated and will be removed from pandas in a future version. Use pandas.concat instead.\n",
      "  combined = combined.append(row_to_add, ignore_index=True)\n",
      "/tmp/ipykernel_230771/2792239671.py:20: FutureWarning: The frame.append method is deprecated and will be removed from pandas in a future version. Use pandas.concat instead.\n",
      "  combined = combined.append(row_to_add, ignore_index=True)\n",
      "/tmp/ipykernel_230771/2792239671.py:20: FutureWarning: The frame.append method is deprecated and will be removed from pandas in a future version. Use pandas.concat instead.\n",
      "  combined = combined.append(row_to_add, ignore_index=True)\n",
      "/tmp/ipykernel_230771/2792239671.py:20: FutureWarning: The frame.append method is deprecated and will be removed from pandas in a future version. Use pandas.concat instead.\n",
      "  combined = combined.append(row_to_add, ignore_index=True)\n",
      "/tmp/ipykernel_230771/2792239671.py:20: FutureWarning: The frame.append method is deprecated and will be removed from pandas in a future version. Use pandas.concat instead.\n",
      "  combined = combined.append(row_to_add, ignore_index=True)\n",
      "/tmp/ipykernel_230771/2792239671.py:20: FutureWarning: The frame.append method is deprecated and will be removed from pandas in a future version. Use pandas.concat instead.\n",
      "  combined = combined.append(row_to_add, ignore_index=True)\n",
      "/tmp/ipykernel_230771/2792239671.py:20: FutureWarning: The frame.append method is deprecated and will be removed from pandas in a future version. Use pandas.concat instead.\n",
      "  combined = combined.append(row_to_add, ignore_index=True)\n",
      "/tmp/ipykernel_230771/2792239671.py:20: FutureWarning: The frame.append method is deprecated and will be removed from pandas in a future version. Use pandas.concat instead.\n",
      "  combined = combined.append(row_to_add, ignore_index=True)\n",
      "/tmp/ipykernel_230771/2792239671.py:20: FutureWarning: The frame.append method is deprecated and will be removed from pandas in a future version. Use pandas.concat instead.\n",
      "  combined = combined.append(row_to_add, ignore_index=True)\n",
      "/tmp/ipykernel_230771/2792239671.py:20: FutureWarning: The frame.append method is deprecated and will be removed from pandas in a future version. Use pandas.concat instead.\n",
      "  combined = combined.append(row_to_add, ignore_index=True)\n",
      "/tmp/ipykernel_230771/2792239671.py:20: FutureWarning: The frame.append method is deprecated and will be removed from pandas in a future version. Use pandas.concat instead.\n",
      "  combined = combined.append(row_to_add, ignore_index=True)\n",
      "/tmp/ipykernel_230771/2792239671.py:20: FutureWarning: The frame.append method is deprecated and will be removed from pandas in a future version. Use pandas.concat instead.\n",
      "  combined = combined.append(row_to_add, ignore_index=True)\n",
      "/tmp/ipykernel_230771/2792239671.py:20: FutureWarning: The frame.append method is deprecated and will be removed from pandas in a future version. Use pandas.concat instead.\n",
      "  combined = combined.append(row_to_add, ignore_index=True)\n",
      "/tmp/ipykernel_230771/2792239671.py:20: FutureWarning: The frame.append method is deprecated and will be removed from pandas in a future version. Use pandas.concat instead.\n",
      "  combined = combined.append(row_to_add, ignore_index=True)\n",
      "/tmp/ipykernel_230771/2792239671.py:20: FutureWarning: The frame.append method is deprecated and will be removed from pandas in a future version. Use pandas.concat instead.\n",
      "  combined = combined.append(row_to_add, ignore_index=True)\n",
      "/tmp/ipykernel_230771/2792239671.py:20: FutureWarning: The frame.append method is deprecated and will be removed from pandas in a future version. Use pandas.concat instead.\n",
      "  combined = combined.append(row_to_add, ignore_index=True)\n",
      "/tmp/ipykernel_230771/2792239671.py:20: FutureWarning: The frame.append method is deprecated and will be removed from pandas in a future version. Use pandas.concat instead.\n",
      "  combined = combined.append(row_to_add, ignore_index=True)\n",
      "/tmp/ipykernel_230771/2792239671.py:20: FutureWarning: The frame.append method is deprecated and will be removed from pandas in a future version. Use pandas.concat instead.\n",
      "  combined = combined.append(row_to_add, ignore_index=True)\n",
      "/tmp/ipykernel_230771/2792239671.py:20: FutureWarning: The frame.append method is deprecated and will be removed from pandas in a future version. Use pandas.concat instead.\n",
      "  combined = combined.append(row_to_add, ignore_index=True)\n",
      "/tmp/ipykernel_230771/2792239671.py:20: FutureWarning: The frame.append method is deprecated and will be removed from pandas in a future version. Use pandas.concat instead.\n",
      "  combined = combined.append(row_to_add, ignore_index=True)\n",
      "/tmp/ipykernel_230771/2792239671.py:20: FutureWarning: The frame.append method is deprecated and will be removed from pandas in a future version. Use pandas.concat instead.\n",
      "  combined = combined.append(row_to_add, ignore_index=True)\n",
      "/tmp/ipykernel_230771/2792239671.py:20: FutureWarning: The frame.append method is deprecated and will be removed from pandas in a future version. Use pandas.concat instead.\n",
      "  combined = combined.append(row_to_add, ignore_index=True)\n",
      "/tmp/ipykernel_230771/2792239671.py:20: FutureWarning: The frame.append method is deprecated and will be removed from pandas in a future version. Use pandas.concat instead.\n",
      "  combined = combined.append(row_to_add, ignore_index=True)\n",
      "/tmp/ipykernel_230771/2792239671.py:20: FutureWarning: The frame.append method is deprecated and will be removed from pandas in a future version. Use pandas.concat instead.\n",
      "  combined = combined.append(row_to_add, ignore_index=True)\n",
      "/tmp/ipykernel_230771/2792239671.py:20: FutureWarning: The frame.append method is deprecated and will be removed from pandas in a future version. Use pandas.concat instead.\n",
      "  combined = combined.append(row_to_add, ignore_index=True)\n",
      "/tmp/ipykernel_230771/2792239671.py:20: FutureWarning: The frame.append method is deprecated and will be removed from pandas in a future version. Use pandas.concat instead.\n",
      "  combined = combined.append(row_to_add, ignore_index=True)\n",
      "/tmp/ipykernel_230771/2792239671.py:20: FutureWarning: The frame.append method is deprecated and will be removed from pandas in a future version. Use pandas.concat instead.\n",
      "  combined = combined.append(row_to_add, ignore_index=True)\n",
      "/tmp/ipykernel_230771/2792239671.py:20: FutureWarning: The frame.append method is deprecated and will be removed from pandas in a future version. Use pandas.concat instead.\n",
      "  combined = combined.append(row_to_add, ignore_index=True)\n",
      "/tmp/ipykernel_230771/2792239671.py:20: FutureWarning: The frame.append method is deprecated and will be removed from pandas in a future version. Use pandas.concat instead.\n",
      "  combined = combined.append(row_to_add, ignore_index=True)\n",
      "/tmp/ipykernel_230771/2792239671.py:20: FutureWarning: The frame.append method is deprecated and will be removed from pandas in a future version. Use pandas.concat instead.\n",
      "  combined = combined.append(row_to_add, ignore_index=True)\n",
      "/tmp/ipykernel_230771/2792239671.py:20: FutureWarning: The frame.append method is deprecated and will be removed from pandas in a future version. Use pandas.concat instead.\n",
      "  combined = combined.append(row_to_add, ignore_index=True)\n",
      "/tmp/ipykernel_230771/2792239671.py:20: FutureWarning: The frame.append method is deprecated and will be removed from pandas in a future version. Use pandas.concat instead.\n",
      "  combined = combined.append(row_to_add, ignore_index=True)\n",
      "/tmp/ipykernel_230771/2792239671.py:20: FutureWarning: The frame.append method is deprecated and will be removed from pandas in a future version. Use pandas.concat instead.\n",
      "  combined = combined.append(row_to_add, ignore_index=True)\n",
      "/tmp/ipykernel_230771/2792239671.py:20: FutureWarning: The frame.append method is deprecated and will be removed from pandas in a future version. Use pandas.concat instead.\n",
      "  combined = combined.append(row_to_add, ignore_index=True)\n",
      "/tmp/ipykernel_230771/2792239671.py:20: FutureWarning: The frame.append method is deprecated and will be removed from pandas in a future version. Use pandas.concat instead.\n",
      "  combined = combined.append(row_to_add, ignore_index=True)\n",
      "/tmp/ipykernel_230771/2792239671.py:20: FutureWarning: The frame.append method is deprecated and will be removed from pandas in a future version. Use pandas.concat instead.\n",
      "  combined = combined.append(row_to_add, ignore_index=True)\n",
      "/tmp/ipykernel_230771/2792239671.py:20: FutureWarning: The frame.append method is deprecated and will be removed from pandas in a future version. Use pandas.concat instead.\n",
      "  combined = combined.append(row_to_add, ignore_index=True)\n",
      "/tmp/ipykernel_230771/2792239671.py:20: FutureWarning: The frame.append method is deprecated and will be removed from pandas in a future version. Use pandas.concat instead.\n",
      "  combined = combined.append(row_to_add, ignore_index=True)\n",
      "/tmp/ipykernel_230771/2792239671.py:20: FutureWarning: The frame.append method is deprecated and will be removed from pandas in a future version. Use pandas.concat instead.\n",
      "  combined = combined.append(row_to_add, ignore_index=True)\n",
      "/tmp/ipykernel_230771/2792239671.py:20: FutureWarning: The frame.append method is deprecated and will be removed from pandas in a future version. Use pandas.concat instead.\n",
      "  combined = combined.append(row_to_add, ignore_index=True)\n",
      "/tmp/ipykernel_230771/2792239671.py:20: FutureWarning: The frame.append method is deprecated and will be removed from pandas in a future version. Use pandas.concat instead.\n",
      "  combined = combined.append(row_to_add, ignore_index=True)\n",
      "/tmp/ipykernel_230771/2792239671.py:20: FutureWarning: The frame.append method is deprecated and will be removed from pandas in a future version. Use pandas.concat instead.\n",
      "  combined = combined.append(row_to_add, ignore_index=True)\n",
      "/tmp/ipykernel_230771/2792239671.py:20: FutureWarning: The frame.append method is deprecated and will be removed from pandas in a future version. Use pandas.concat instead.\n",
      "  combined = combined.append(row_to_add, ignore_index=True)\n",
      "/tmp/ipykernel_230771/2792239671.py:20: FutureWarning: The frame.append method is deprecated and will be removed from pandas in a future version. Use pandas.concat instead.\n",
      "  combined = combined.append(row_to_add, ignore_index=True)\n",
      "/tmp/ipykernel_230771/2792239671.py:20: FutureWarning: The frame.append method is deprecated and will be removed from pandas in a future version. Use pandas.concat instead.\n",
      "  combined = combined.append(row_to_add, ignore_index=True)\n",
      "/tmp/ipykernel_230771/2792239671.py:20: FutureWarning: The frame.append method is deprecated and will be removed from pandas in a future version. Use pandas.concat instead.\n",
      "  combined = combined.append(row_to_add, ignore_index=True)\n",
      "/tmp/ipykernel_230771/2792239671.py:20: FutureWarning: The frame.append method is deprecated and will be removed from pandas in a future version. Use pandas.concat instead.\n",
      "  combined = combined.append(row_to_add, ignore_index=True)\n",
      "/tmp/ipykernel_230771/2792239671.py:20: FutureWarning: The frame.append method is deprecated and will be removed from pandas in a future version. Use pandas.concat instead.\n",
      "  combined = combined.append(row_to_add, ignore_index=True)\n",
      "/tmp/ipykernel_230771/2792239671.py:20: FutureWarning: The frame.append method is deprecated and will be removed from pandas in a future version. Use pandas.concat instead.\n",
      "  combined = combined.append(row_to_add, ignore_index=True)\n",
      "/tmp/ipykernel_230771/2792239671.py:20: FutureWarning: The frame.append method is deprecated and will be removed from pandas in a future version. Use pandas.concat instead.\n",
      "  combined = combined.append(row_to_add, ignore_index=True)\n",
      "/tmp/ipykernel_230771/2792239671.py:20: FutureWarning: The frame.append method is deprecated and will be removed from pandas in a future version. Use pandas.concat instead.\n",
      "  combined = combined.append(row_to_add, ignore_index=True)\n",
      "/tmp/ipykernel_230771/2792239671.py:20: FutureWarning: The frame.append method is deprecated and will be removed from pandas in a future version. Use pandas.concat instead.\n",
      "  combined = combined.append(row_to_add, ignore_index=True)\n",
      "/tmp/ipykernel_230771/2792239671.py:20: FutureWarning: The frame.append method is deprecated and will be removed from pandas in a future version. Use pandas.concat instead.\n",
      "  combined = combined.append(row_to_add, ignore_index=True)\n",
      "/tmp/ipykernel_230771/2792239671.py:20: FutureWarning: The frame.append method is deprecated and will be removed from pandas in a future version. Use pandas.concat instead.\n",
      "  combined = combined.append(row_to_add, ignore_index=True)\n",
      "/tmp/ipykernel_230771/2792239671.py:20: FutureWarning: The frame.append method is deprecated and will be removed from pandas in a future version. Use pandas.concat instead.\n",
      "  combined = combined.append(row_to_add, ignore_index=True)\n",
      "/tmp/ipykernel_230771/2792239671.py:20: FutureWarning: The frame.append method is deprecated and will be removed from pandas in a future version. Use pandas.concat instead.\n",
      "  combined = combined.append(row_to_add, ignore_index=True)\n",
      "/tmp/ipykernel_230771/2792239671.py:20: FutureWarning: The frame.append method is deprecated and will be removed from pandas in a future version. Use pandas.concat instead.\n",
      "  combined = combined.append(row_to_add, ignore_index=True)\n",
      "/tmp/ipykernel_230771/2792239671.py:20: FutureWarning: The frame.append method is deprecated and will be removed from pandas in a future version. Use pandas.concat instead.\n",
      "  combined = combined.append(row_to_add, ignore_index=True)\n",
      "/tmp/ipykernel_230771/2792239671.py:20: FutureWarning: The frame.append method is deprecated and will be removed from pandas in a future version. Use pandas.concat instead.\n",
      "  combined = combined.append(row_to_add, ignore_index=True)\n",
      "/tmp/ipykernel_230771/2792239671.py:20: FutureWarning: The frame.append method is deprecated and will be removed from pandas in a future version. Use pandas.concat instead.\n",
      "  combined = combined.append(row_to_add, ignore_index=True)\n",
      "/tmp/ipykernel_230771/2792239671.py:20: FutureWarning: The frame.append method is deprecated and will be removed from pandas in a future version. Use pandas.concat instead.\n",
      "  combined = combined.append(row_to_add, ignore_index=True)\n",
      "/tmp/ipykernel_230771/2792239671.py:20: FutureWarning: The frame.append method is deprecated and will be removed from pandas in a future version. Use pandas.concat instead.\n",
      "  combined = combined.append(row_to_add, ignore_index=True)\n",
      "/tmp/ipykernel_230771/2792239671.py:20: FutureWarning: The frame.append method is deprecated and will be removed from pandas in a future version. Use pandas.concat instead.\n",
      "  combined = combined.append(row_to_add, ignore_index=True)\n",
      "/tmp/ipykernel_230771/2792239671.py:20: FutureWarning: The frame.append method is deprecated and will be removed from pandas in a future version. Use pandas.concat instead.\n",
      "  combined = combined.append(row_to_add, ignore_index=True)\n",
      "/tmp/ipykernel_230771/2792239671.py:20: FutureWarning: The frame.append method is deprecated and will be removed from pandas in a future version. Use pandas.concat instead.\n",
      "  combined = combined.append(row_to_add, ignore_index=True)\n",
      "/tmp/ipykernel_230771/2792239671.py:20: FutureWarning: The frame.append method is deprecated and will be removed from pandas in a future version. Use pandas.concat instead.\n",
      "  combined = combined.append(row_to_add, ignore_index=True)\n",
      "/tmp/ipykernel_230771/2792239671.py:20: FutureWarning: The frame.append method is deprecated and will be removed from pandas in a future version. Use pandas.concat instead.\n",
      "  combined = combined.append(row_to_add, ignore_index=True)\n",
      "/tmp/ipykernel_230771/2792239671.py:20: FutureWarning: The frame.append method is deprecated and will be removed from pandas in a future version. Use pandas.concat instead.\n",
      "  combined = combined.append(row_to_add, ignore_index=True)\n",
      "/tmp/ipykernel_230771/2792239671.py:20: FutureWarning: The frame.append method is deprecated and will be removed from pandas in a future version. Use pandas.concat instead.\n",
      "  combined = combined.append(row_to_add, ignore_index=True)\n",
      "/tmp/ipykernel_230771/2792239671.py:20: FutureWarning: The frame.append method is deprecated and will be removed from pandas in a future version. Use pandas.concat instead.\n",
      "  combined = combined.append(row_to_add, ignore_index=True)\n",
      "/tmp/ipykernel_230771/2792239671.py:20: FutureWarning: The frame.append method is deprecated and will be removed from pandas in a future version. Use pandas.concat instead.\n",
      "  combined = combined.append(row_to_add, ignore_index=True)\n",
      "/tmp/ipykernel_230771/2792239671.py:20: FutureWarning: The frame.append method is deprecated and will be removed from pandas in a future version. Use pandas.concat instead.\n",
      "  combined = combined.append(row_to_add, ignore_index=True)\n",
      "/tmp/ipykernel_230771/2792239671.py:20: FutureWarning: The frame.append method is deprecated and will be removed from pandas in a future version. Use pandas.concat instead.\n",
      "  combined = combined.append(row_to_add, ignore_index=True)\n",
      "/tmp/ipykernel_230771/2792239671.py:20: FutureWarning: The frame.append method is deprecated and will be removed from pandas in a future version. Use pandas.concat instead.\n",
      "  combined = combined.append(row_to_add, ignore_index=True)\n",
      "/tmp/ipykernel_230771/2792239671.py:20: FutureWarning: The frame.append method is deprecated and will be removed from pandas in a future version. Use pandas.concat instead.\n",
      "  combined = combined.append(row_to_add, ignore_index=True)\n",
      "/tmp/ipykernel_230771/2792239671.py:20: FutureWarning: The frame.append method is deprecated and will be removed from pandas in a future version. Use pandas.concat instead.\n",
      "  combined = combined.append(row_to_add, ignore_index=True)\n",
      "/tmp/ipykernel_230771/2792239671.py:20: FutureWarning: The frame.append method is deprecated and will be removed from pandas in a future version. Use pandas.concat instead.\n",
      "  combined = combined.append(row_to_add, ignore_index=True)\n",
      "/tmp/ipykernel_230771/2792239671.py:20: FutureWarning: The frame.append method is deprecated and will be removed from pandas in a future version. Use pandas.concat instead.\n",
      "  combined = combined.append(row_to_add, ignore_index=True)\n",
      "/tmp/ipykernel_230771/2792239671.py:20: FutureWarning: The frame.append method is deprecated and will be removed from pandas in a future version. Use pandas.concat instead.\n",
      "  combined = combined.append(row_to_add, ignore_index=True)\n",
      "/tmp/ipykernel_230771/2792239671.py:20: FutureWarning: The frame.append method is deprecated and will be removed from pandas in a future version. Use pandas.concat instead.\n",
      "  combined = combined.append(row_to_add, ignore_index=True)\n",
      "/tmp/ipykernel_230771/2792239671.py:20: FutureWarning: The frame.append method is deprecated and will be removed from pandas in a future version. Use pandas.concat instead.\n",
      "  combined = combined.append(row_to_add, ignore_index=True)\n",
      "/tmp/ipykernel_230771/2792239671.py:20: FutureWarning: The frame.append method is deprecated and will be removed from pandas in a future version. Use pandas.concat instead.\n",
      "  combined = combined.append(row_to_add, ignore_index=True)\n",
      "/tmp/ipykernel_230771/2792239671.py:20: FutureWarning: The frame.append method is deprecated and will be removed from pandas in a future version. Use pandas.concat instead.\n",
      "  combined = combined.append(row_to_add, ignore_index=True)\n",
      "/tmp/ipykernel_230771/2792239671.py:20: FutureWarning: The frame.append method is deprecated and will be removed from pandas in a future version. Use pandas.concat instead.\n",
      "  combined = combined.append(row_to_add, ignore_index=True)\n",
      "/tmp/ipykernel_230771/2792239671.py:20: FutureWarning: The frame.append method is deprecated and will be removed from pandas in a future version. Use pandas.concat instead.\n",
      "  combined = combined.append(row_to_add, ignore_index=True)\n",
      "/tmp/ipykernel_230771/2792239671.py:20: FutureWarning: The frame.append method is deprecated and will be removed from pandas in a future version. Use pandas.concat instead.\n",
      "  combined = combined.append(row_to_add, ignore_index=True)\n",
      "/tmp/ipykernel_230771/2792239671.py:20: FutureWarning: The frame.append method is deprecated and will be removed from pandas in a future version. Use pandas.concat instead.\n",
      "  combined = combined.append(row_to_add, ignore_index=True)\n",
      "/tmp/ipykernel_230771/2792239671.py:20: FutureWarning: The frame.append method is deprecated and will be removed from pandas in a future version. Use pandas.concat instead.\n",
      "  combined = combined.append(row_to_add, ignore_index=True)\n",
      "/tmp/ipykernel_230771/2792239671.py:20: FutureWarning: The frame.append method is deprecated and will be removed from pandas in a future version. Use pandas.concat instead.\n",
      "  combined = combined.append(row_to_add, ignore_index=True)\n",
      "/tmp/ipykernel_230771/2792239671.py:20: FutureWarning: The frame.append method is deprecated and will be removed from pandas in a future version. Use pandas.concat instead.\n",
      "  combined = combined.append(row_to_add, ignore_index=True)\n",
      "/tmp/ipykernel_230771/2792239671.py:20: FutureWarning: The frame.append method is deprecated and will be removed from pandas in a future version. Use pandas.concat instead.\n",
      "  combined = combined.append(row_to_add, ignore_index=True)\n",
      "/tmp/ipykernel_230771/2792239671.py:20: FutureWarning: The frame.append method is deprecated and will be removed from pandas in a future version. Use pandas.concat instead.\n",
      "  combined = combined.append(row_to_add, ignore_index=True)\n",
      "/tmp/ipykernel_230771/2792239671.py:20: FutureWarning: The frame.append method is deprecated and will be removed from pandas in a future version. Use pandas.concat instead.\n",
      "  combined = combined.append(row_to_add, ignore_index=True)\n",
      "/tmp/ipykernel_230771/2792239671.py:20: FutureWarning: The frame.append method is deprecated and will be removed from pandas in a future version. Use pandas.concat instead.\n",
      "  combined = combined.append(row_to_add, ignore_index=True)\n",
      "/tmp/ipykernel_230771/2792239671.py:20: FutureWarning: The frame.append method is deprecated and will be removed from pandas in a future version. Use pandas.concat instead.\n",
      "  combined = combined.append(row_to_add, ignore_index=True)\n",
      "/tmp/ipykernel_230771/2792239671.py:20: FutureWarning: The frame.append method is deprecated and will be removed from pandas in a future version. Use pandas.concat instead.\n",
      "  combined = combined.append(row_to_add, ignore_index=True)\n",
      "/tmp/ipykernel_230771/2792239671.py:20: FutureWarning: The frame.append method is deprecated and will be removed from pandas in a future version. Use pandas.concat instead.\n",
      "  combined = combined.append(row_to_add, ignore_index=True)\n",
      "/tmp/ipykernel_230771/2792239671.py:20: FutureWarning: The frame.append method is deprecated and will be removed from pandas in a future version. Use pandas.concat instead.\n",
      "  combined = combined.append(row_to_add, ignore_index=True)\n",
      "/tmp/ipykernel_230771/2792239671.py:20: FutureWarning: The frame.append method is deprecated and will be removed from pandas in a future version. Use pandas.concat instead.\n",
      "  combined = combined.append(row_to_add, ignore_index=True)\n",
      "/tmp/ipykernel_230771/2792239671.py:20: FutureWarning: The frame.append method is deprecated and will be removed from pandas in a future version. Use pandas.concat instead.\n",
      "  combined = combined.append(row_to_add, ignore_index=True)\n",
      "/tmp/ipykernel_230771/2792239671.py:20: FutureWarning: The frame.append method is deprecated and will be removed from pandas in a future version. Use pandas.concat instead.\n",
      "  combined = combined.append(row_to_add, ignore_index=True)\n",
      "/tmp/ipykernel_230771/2792239671.py:20: FutureWarning: The frame.append method is deprecated and will be removed from pandas in a future version. Use pandas.concat instead.\n",
      "  combined = combined.append(row_to_add, ignore_index=True)\n",
      "/tmp/ipykernel_230771/2792239671.py:20: FutureWarning: The frame.append method is deprecated and will be removed from pandas in a future version. Use pandas.concat instead.\n",
      "  combined = combined.append(row_to_add, ignore_index=True)\n",
      "/tmp/ipykernel_230771/2792239671.py:20: FutureWarning: The frame.append method is deprecated and will be removed from pandas in a future version. Use pandas.concat instead.\n",
      "  combined = combined.append(row_to_add, ignore_index=True)\n",
      "/tmp/ipykernel_230771/2792239671.py:20: FutureWarning: The frame.append method is deprecated and will be removed from pandas in a future version. Use pandas.concat instead.\n",
      "  combined = combined.append(row_to_add, ignore_index=True)\n",
      "/tmp/ipykernel_230771/2792239671.py:20: FutureWarning: The frame.append method is deprecated and will be removed from pandas in a future version. Use pandas.concat instead.\n",
      "  combined = combined.append(row_to_add, ignore_index=True)\n",
      "/tmp/ipykernel_230771/2792239671.py:20: FutureWarning: The frame.append method is deprecated and will be removed from pandas in a future version. Use pandas.concat instead.\n",
      "  combined = combined.append(row_to_add, ignore_index=True)\n",
      "/tmp/ipykernel_230771/2792239671.py:20: FutureWarning: The frame.append method is deprecated and will be removed from pandas in a future version. Use pandas.concat instead.\n",
      "  combined = combined.append(row_to_add, ignore_index=True)\n",
      "/tmp/ipykernel_230771/2792239671.py:20: FutureWarning: The frame.append method is deprecated and will be removed from pandas in a future version. Use pandas.concat instead.\n",
      "  combined = combined.append(row_to_add, ignore_index=True)\n",
      "/tmp/ipykernel_230771/2792239671.py:20: FutureWarning: The frame.append method is deprecated and will be removed from pandas in a future version. Use pandas.concat instead.\n",
      "  combined = combined.append(row_to_add, ignore_index=True)\n",
      "/tmp/ipykernel_230771/2792239671.py:20: FutureWarning: The frame.append method is deprecated and will be removed from pandas in a future version. Use pandas.concat instead.\n",
      "  combined = combined.append(row_to_add, ignore_index=True)\n",
      "/tmp/ipykernel_230771/2792239671.py:20: FutureWarning: The frame.append method is deprecated and will be removed from pandas in a future version. Use pandas.concat instead.\n",
      "  combined = combined.append(row_to_add, ignore_index=True)\n",
      "/tmp/ipykernel_230771/2792239671.py:20: FutureWarning: The frame.append method is deprecated and will be removed from pandas in a future version. Use pandas.concat instead.\n",
      "  combined = combined.append(row_to_add, ignore_index=True)\n"
     ]
    },
    {
     "data": {
      "text/plain": "  област  година  родениМомчета  родениМомичета  умрелиМъже  умрелиЖени  \\\n0  Видин    2016            293             263        1043        1038   \n1  Видин    2017            288             284        1018         981   \n2  Видин    2018            304             282        1029         963   \n3  Видин    2019            262             286         957         965   \n4  Видин    2020            242             231        1173        1096   \n\n   общоМъже  общоЖени  \n0     43400     45467  \n1     42411     44516  \n2     41349     43516  \n3     40369     42466  \n4     39487     41725  ",
      "text/html": "<div>\n<style scoped>\n    .dataframe tbody tr th:only-of-type {\n        vertical-align: middle;\n    }\n\n    .dataframe tbody tr th {\n        vertical-align: top;\n    }\n\n    .dataframe thead th {\n        text-align: right;\n    }\n</style>\n<table border=\"1\" class=\"dataframe\">\n  <thead>\n    <tr style=\"text-align: right;\">\n      <th></th>\n      <th>област</th>\n      <th>година</th>\n      <th>родениМомчета</th>\n      <th>родениМомичета</th>\n      <th>умрелиМъже</th>\n      <th>умрелиЖени</th>\n      <th>общоМъже</th>\n      <th>общоЖени</th>\n    </tr>\n  </thead>\n  <tbody>\n    <tr>\n      <th>0</th>\n      <td>Видин</td>\n      <td>2016</td>\n      <td>293</td>\n      <td>263</td>\n      <td>1043</td>\n      <td>1038</td>\n      <td>43400</td>\n      <td>45467</td>\n    </tr>\n    <tr>\n      <th>1</th>\n      <td>Видин</td>\n      <td>2017</td>\n      <td>288</td>\n      <td>284</td>\n      <td>1018</td>\n      <td>981</td>\n      <td>42411</td>\n      <td>44516</td>\n    </tr>\n    <tr>\n      <th>2</th>\n      <td>Видин</td>\n      <td>2018</td>\n      <td>304</td>\n      <td>282</td>\n      <td>1029</td>\n      <td>963</td>\n      <td>41349</td>\n      <td>43516</td>\n    </tr>\n    <tr>\n      <th>3</th>\n      <td>Видин</td>\n      <td>2019</td>\n      <td>262</td>\n      <td>286</td>\n      <td>957</td>\n      <td>965</td>\n      <td>40369</td>\n      <td>42466</td>\n    </tr>\n    <tr>\n      <th>4</th>\n      <td>Видин</td>\n      <td>2020</td>\n      <td>242</td>\n      <td>231</td>\n      <td>1173</td>\n      <td>1096</td>\n      <td>39487</td>\n      <td>41725</td>\n    </tr>\n  </tbody>\n</table>\n</div>"
     },
     "execution_count": 6,
     "metadata": {},
     "output_type": "execute_result"
    }
   ],
   "source": [
    "regions = born['Област']\n",
    "years = list(range(2016, 2022))\n",
    "\n",
    "combined = pd.DataFrame()\n",
    "\n",
    "combined_columns = ['област', 'година', 'родениМомчета', 'родениМомичета', 'умрелиМъже', 'умрелиЖени', 'общоМъже', 'общоЖени']\n",
    "for region in regions:\n",
    "    for year in years:\n",
    "        row_to_add = {\n",
    "            combined_columns[0]: region,\n",
    "            combined_columns[1]: year,\n",
    "            combined_columns[2]: born[born['Област'] == region][f'Родени момчета {year}'].values[0],\n",
    "            combined_columns[3]: born[born['Област'] == region][f'Родени момичета {year}'].values[0],\n",
    "            combined_columns[4]: died[died['Област'] == region][f'Умрели мъже {year}'].values[0],\n",
    "            combined_columns[5]: died[died['Област'] == region][f'Умрели жени {year}'].values[0],\n",
    "            combined_columns[6]: total[(total['Област'] == region) & (total['Пол'] == 'Мъже')][f'Брой {year}'].values[0],\n",
    "            combined_columns[7]: total[(total['Област'] == region) & (total['Пол'] == 'Жени')][f'Брой {year}'].values[0]\n",
    "        }\n",
    "\n",
    "        combined = combined.append(row_to_add, ignore_index=True)\n",
    "\n",
    "combined.head()"
   ],
   "metadata": {
    "collapsed": false,
    "pycharm": {
     "name": "#%%\n"
    }
   }
  },
  {
   "cell_type": "markdown",
   "source": [
    "Част от имената на областите са съставени от повече от една дума (пр. “Велико Търново”), а София град е маркирана като “София (столица”). Това наложи допълнителна обработка на имената на градовете, преди те да могат да бъдат трансформирани в RDF обекти."
   ],
   "metadata": {
    "collapsed": false,
    "pycharm": {
     "name": "#%% md\n"
    }
   }
  },
  {
   "cell_type": "code",
   "execution_count": 7,
   "outputs": [
    {
     "data": {
      "text/plain": "Видин            6\nВраца            6\nСмолян           6\nПловдив          6\nПазарджик        6\nКърджали         6\nСофияСтолица     6\nСофия            6\nПерник           6\nКюстендил        6\nБлагоевград      6\nЯмбол            6\nСтараЗагора      6\nСливен           6\nБургас           6\nШумен            6\nТърговище        6\nДобрич           6\nВарна            6\nСилистра         6\nРусе             6\nРазград          6\nГаброво          6\nВеликоТърново    6\nПлевен           6\nМонтана          6\nЛовеч            6\nХасково          6\nName: област, dtype: int64"
     },
     "execution_count": 7,
     "metadata": {},
     "output_type": "execute_result"
    }
   ],
   "source": [
    "def format_region_name(name: str) -> str:\n",
    "    name = name.split(' ')\n",
    "    name = [''.join(c for c in word if c.isalpha()).capitalize() for word in name]\n",
    "    return ''.join(name)\n",
    "\n",
    "\n",
    "combined['област'] = combined['област'].apply(format_region_name)"
   ],
   "metadata": {
    "collapsed": false,
    "pycharm": {
     "name": "#%%\n"
    }
   }
  },
  {
   "cell_type": "code",
   "execution_count": 97,
   "outputs": [],
   "source": [
    "g = Graph()\n",
    "\n",
    "# RDF and RDFS are already imported\n",
    "cube = Namespace('https://cube.link/')\n",
    "schema = Namespace('http://schema.org/')\n",
    "prop = Namespace('http://example.org/')\n",
    "\n",
    "g.namespace_manager.bind('schema', schema, replace=True)\n",
    "g.namespace_manager.bind('cube', cube, replace=True)\n",
    "g.namespace_manager.bind('', prop, replace=True)"
   ],
   "metadata": {
    "collapsed": false,
    "pycharm": {
     "name": "#%%\n"
    }
   }
  },
  {
   "cell_type": "code",
   "execution_count": 98,
   "outputs": [
    {
     "data": {
      "text/plain": "<Graph identifier=N139a11c8333e4c0fa95e6e4630fbbf08 (<class 'rdflib.graph.Graph'>)>"
     },
     "execution_count": 98,
     "metadata": {},
     "output_type": "execute_result"
    }
   ],
   "source": [
    "g.add((URIRef('org/FMITeam'), RDF.type, schema.Organization))\n",
    "g.add((URIRef('org/FMITeam'), schema.name, Literal('FMI Team', lang='bg')))\n",
    "\n",
    "g.add((URIRef('НСИ'), RDF.type, URIRef(schema + 'GovermentOrganization')))\n",
    "g.add((URIRef('НСИ'), schema.name, Literal('Национален статистически институт', lang='bg')))\n",
    "g.add((URIRef('НСИ'), schema.name, Literal('National statistical institute', lang='en')))\n",
    "\n",
    "g.add((URIRef('НСИ/cube'), RDF.type, cube.Cube))\n",
    "g.add((URIRef('НСИ/cube'), RDF.type, schema.Dataset))\n",
    "g.add((URIRef('НСИ/cube'), schema.name, Literal('Население на България', lang='bg')))\n",
    "g.add((URIRef('НСИ/cube'), schema.name, Literal('Population of Bulgaria', lang='en')))\n",
    "g.add((URIRef('НСИ/cube'), schema.description, Literal('Население на България по райони и години.', lang='bg')))\n",
    "g.add((URIRef('НСИ/cube'), schema.description, Literal('Population of Bulgaria by region and year', lang='en')))\n",
    "g.add((URIRef('НСИ/cube'), schema.creator, URIRef('org/FMITeam')))\n",
    "g.add((URIRef('НСИ/cube'), cube.ObservationSet, URIRef('НСИ/cube/observation')))\n",
    "g.add((URIRef('НСИ/cube'), cube.ObservationConstraint, URIRef('НСИ/cube/constraint')))\n",
    "g.add((URIRef('НСИ/cube'), schema.dateCreated, Literal('2022-06-18', datatype=XSD.date)))"
   ],
   "metadata": {
    "collapsed": false,
    "pycharm": {
     "name": "#%%\n"
    }
   }
  },
  {
   "cell_type": "code",
   "execution_count": 99,
   "outputs": [],
   "source": [
    "g.add((URIRef('НСИ/cube/observation'), RDF.type, cube.ObservationSet))\n",
    "for index, row in combined.iterrows():\n",
    "    observation_URI = URIRef(f'НСИ/cube/observation/{row[\"година\"]}{row[\"област\"]}')\n",
    "\n",
    "    g.add((URIRef('НСИ/cube/observation'), cube.Obeservation, observation_URI))\n",
    "\n",
    "    g.add((observation_URI, RDF.type, cube.Observation))\n",
    "    g.add((observation_URI, cube['observedBy'], URIRef('НСИ')))\n",
    "\n",
    "    for key in row.keys():\n",
    "        g.add((observation_URI, prop[key], Literal(row[key])))"
   ],
   "metadata": {
    "collapsed": false,
    "pycharm": {
     "name": "#%%\n"
    }
   }
  },
  {
   "cell_type": "code",
   "execution_count": 102,
   "outputs": [],
   "source": [
    "with open('population.ttl', 'w') as f:\n",
    "    f.write(g.serialize(format='turtle'))"
   ],
   "metadata": {
    "collapsed": false,
    "pycharm": {
     "name": "#%%\n"
    }
   }
  }
 ],
 "metadata": {
  "kernelspec": {
   "name": "semanticweb2",
   "language": "python",
   "display_name": "SemanticWeb2"
  },
  "language_info": {
   "name": "python",
   "version": "3.10.4"
  },
  "orig_nbformat": 4,
  "vscode": {
   "interpreter": {
    "hash": "67d39a02bd8af4b4fdfc1f955dbec2c22c86b2bff30711f1baa38ecddc6b2522"
   }
  }
 },
 "nbformat": 4,
 "nbformat_minor": 2
}